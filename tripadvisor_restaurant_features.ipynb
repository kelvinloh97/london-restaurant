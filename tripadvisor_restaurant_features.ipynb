{
 "cells": [
  {
   "cell_type": "markdown",
   "metadata": {},
   "source": [
    "# Tripadvisor top 100 London Restaurants\n",
    "\n",
    "I have always been a foodie and have enjoyed many great cuisines and restaurants in London. London is a melting pot of cultures with a large selection of the best food from around the world. \n",
    "\n",
    "According to the ONS, as of 2018, there are 15,550 restaurants in London. What does it take for a restaurant to be the top100 on a popular restaurant recommender website, such as Tripadvisor\n",
    "\n",
    "This project is to scrape data from the top 100 restaurants on tripadvisor and to find out features that makes the restaurant a top 100 reviewed location. \n",
    "\n",
    "A data visualization is done on Tableau to illustrate the point more clearly\n"
   ]
  },
  {
   "cell_type": "markdown",
   "metadata": {},
   "source": [
    "This part is to scrape the rank,average rating,name,address,borough,price_range,cuisine of each of the top 100 restaurants on Tripadvisor. "
   ]
  },
  {
   "cell_type": "code",
   "execution_count": 1,
   "metadata": {},
   "outputs": [],
   "source": [
    "# initialize the work environment\n",
    "import csv\n",
    "import requests\n",
    "import time \n",
    "from selenium import webdriver\n",
    "import pandas as pd\n",
    "import numpy as np\n",
    "import time\n",
    "from selenium.common.exceptions import NoSuchElementException\n",
    "from selenium.webdriver.support.ui import WebDriverWait\n",
    "from selenium.webdriver.support import expected_conditions as EC\n",
    "from selenium.webdriver.common.by import By"
   ]
  },
  {
   "cell_type": "code",
   "execution_count": 3,
   "metadata": {},
   "outputs": [],
   "source": [
    "# scrape data using selenium \n",
    "# creating path on selenium \n",
    "website = 'https://www.tripadvisor.com/Restaurants-g186338-London_England'\n",
    "path = 'C:/Users/Kelvin/chromedriver_win32/chromedriver'\n",
    "driver =  webdriver.Chrome(path)\n",
    "driver.get(website)"
   ]
  },
  {
   "cell_type": "code",
   "execution_count": 4,
   "metadata": {},
   "outputs": [],
   "source": [
    "# click button on website to accept value privacy by building the xpath \n",
    "time.sleep(20)\n",
    "try: \n",
    "    privacy_trust_button =  driver.find_element_by_xpath('//button[@id=\"onetrust-accept-btn-handler\"]')\n",
    "    privacy_trust_button.click()\n",
    "except NoSuchElementException: \n",
    "    pass"
   ]
  },
  {
   "cell_type": "code",
   "execution_count": 5,
   "metadata": {},
   "outputs": [],
   "source": [
    "# find and save restaurant features (name, location, price range, cuisine, average ratings,reviews)\n",
    "restaurant_url = []\n",
    "# extracting data by element xpath\n",
    "for i in range(0,3):\n",
    "    time.sleep(5)\n",
    "    urls = driver.find_elements_by_xpath(\"//a[@class='bHGqj Cj b']\")\n",
    "    for url in urls:\n",
    "        restaurant_url.append(url.get_attribute('href'))\n",
    "    #next page\n",
    "    urls = []\n",
    "    time.sleep(5)\n",
    "    element = driver.find_element_by_xpath(\"//*[@class='nav next rndBtn ui_button primary taLnk']\")\n",
    "    driver.execute_script(\"arguments[0].click();\", element)\n"
   ]
  },
  {
   "cell_type": "code",
   "execution_count": null,
   "metadata": {},
   "outputs": [],
   "source": [
    "# initialize csv to save data \n",
    "path1 = \"/Users/Kelvin/Data Science Project/EDA and Data Cleaning Project/reviews.csv\"\n",
    "csvf = open(path1, 'a', encoding=\"utf-8\")\n",
    "csvWriter = csv.writer(csvf)\n",
    "\n",
    "# initialize the features to be saved into dataframe\n",
    "rank=[]\n",
    "name=[]\n",
    "address=[]\n",
    "borough=[]\n",
    "price_range=[]\n",
    "cuisine=[]\n",
    "average_rating=[]\n",
    "#scrape each feature using selenium via finding element through xpath\n",
    "for urls in restaurant_url:\n",
    "    driver =  webdriver.Chrome(path)\n",
    "    driver.get(urls)\n",
    "    wait = WebDriverWait(driver, 20)\n",
    "    time.sleep(10)\n",
    "    try: \n",
    "        privacy_trust_button =  driver.find_element_by_xpath('//button[@id=\"onetrust-accept-btn-handler\"]')\n",
    "        privacy_trust_button.click()\n",
    "    except NoSuchElementException: \n",
    "        pass   \n",
    "    time.sleep(20)\n",
    "    \n",
    "    try:\n",
    "        rank1=driver.find_element_by_xpath(\"//div[@class='fYCpi']/child::b/child::span\").text\n",
    "        rank.append(rank1)\n",
    "    except NoSuchElementException: \n",
    "        rank2 = np.nan\n",
    "        rank.append(rank2)\n",
    "\n",
    "    try:    \n",
    "        name1 = driver.find_element_by_xpath(\"//div[@h1]\" and \"//h1[@class='fHibz']\").text\n",
    "        name.append(name1)\n",
    "    except NoSuchElementException: \n",
    "        name2 = np.nan\n",
    "        name.append(name2)\n",
    "    time.sleep(2)\n",
    "\n",
    "    try: \n",
    "        address1 = driver.find_element_by_xpath(\"//span[@class='brMTW']/ancestor::div[@class='cSPba bKBJS Me']\").text\n",
    "        address.append(address1)\n",
    "    except NoSuchElementException: \n",
    "        address2 = np.nan\n",
    "        address.append(address2)\n",
    "    try:    \n",
    "        borough1 = driver.find_element_by_xpath(\"//span[@class='ui_icon neighborhoods bPFFU QKJnF']/following-sibling::span/child::div[1]\").text\n",
    "        borough.append(borough1)\n",
    "    except NoSuchElementException: \n",
    "        borough2 = np.nan\n",
    "        borough.append(borough2)\n",
    "        \n",
    "    try: \n",
    "        average_rating1 = driver.find_element_by_xpath(\"//span[@class='fdsdx']\").text\n",
    "        average_rating.append(average_rating1)\n",
    "    except NoSuchElementException: \n",
    "        average_rating2 = np.nan\n",
    "        average_rating.append(average_rating2)\n",
    "    \n",
    "    try: \n",
    "        price_range1 = driver.find_element_by_xpath(\"(//a[@class='drUyy'])[1]\")\n",
    "        price_range1.location_once_scrolled_into_view\n",
    "        price_range.append(price_range1.text)\n",
    "            \n",
    "    except NoSuchElementException: \n",
    "        price_range2 = np.nan\n",
    "        price_range.append(price_range2)\n",
    "\n",
    "    try: \n",
    "        cuisine1 = driver.find_element_by_xpath(\"(//a[@class='drUyy'])[2]\")\n",
    "        cuisine1.location_once_scrolled_into_view\n",
    "        if len(cuisine1.text.split(','))>1:\n",
    "            cuisine2=cuisine1.text.split(',')[1]\n",
    "            cuisine.append(cuisine2)\n",
    "        else:\n",
    "            cuisine2=cuisine1.text\n",
    "            cuisine.append(cuisine2)\n",
    "    except NoSuchElementException: \n",
    "        cuisine3 = np.nan\n",
    "        cuisine.append(cuisine3)      \n",
    "    \n",
    "    # scraping all the reviews for the top 100 restaurants \n",
    "    review_container = driver.find_elements_by_xpath(\".//div[@class='review-container']\")\n",
    "    time.sleep(2)\n",
    "    for r in range(len(review_container)):    \n",
    "        naming = driver.find_element_by_xpath((\"//div[@h1]\" and \"//h1[@class='fHibz']\") or \"//h1[@class='header heading masthead masthead_h1 ']\").text\n",
    "        time.sleep(2)\n",
    "        reviews = review_container[r].find_element_by_xpath(\".//p[@class='partial_entry']\").text\n",
    "\n",
    "        review_dates = review_container[r].find_element_by_xpath(\"//*[@class='ratingDate']\").get_attribute(\"title\")\n",
    "\n",
    "        ratings = review_container[r].find_element_by_xpath(\".//span[contains(@class, 'ui_bubble_rating bubble_')]\").get_attribute(\"class\").split(\"_\")[3]              \n",
    "\n",
    "        csvWriter.writerow([naming,review_dates, ratings, reviews])   \n",
    "    driver.close()\n"
   ]
  },
  {
   "cell_type": "code",
   "execution_count": null,
   "metadata": {},
   "outputs": [],
   "source": [
    "# saving all the data into the dataframe \n",
    "d={'rank':rank,'name':name,'borough':borough,'price range':price_range,'cuisine':cuisine,'average rating':average_rating,'address':address} \n",
    "df=pd.DataFrame.from_dict(d)\n",
    "print(df)\n",
    "df.to_csv('restaurant_info.csv')"
   ]
  },
  {
   "cell_type": "code",
   "execution_count": null,
   "metadata": {},
   "outputs": [],
   "source": [
    "with open(\"reviews.csv\", 'w') as file:\n",
    "    headerlist = ['restaurant name','review date','rating','review' ]\n",
    "    writing = csv.DictWriter(file, delimiter=',', \n",
    "                        fieldnames=headerlist)\n",
    "    writing.writeheader()\n",
    "\n",
    "with open(\"restaurant_info.csv\", 'w') as file:\n",
    "    headerlist1 = ['rank', 'name','borough','price_range','cuisine','average rating']\n",
    "    writing1 = csv.DictWriter(file, delimiter=',', \n",
    "                        fieldnames=headerlist1)\n",
    "    writing1.writeheader()"
   ]
  },
  {
   "cell_type": "code",
   "execution_count": null,
   "metadata": {},
   "outputs": [],
   "source": [
    "# compile all strings into a dataframe"
   ]
  },
  {
   "cell_type": "code",
   "execution_count": null,
   "metadata": {},
   "outputs": [],
   "source": [
    "# clean data "
   ]
  },
  {
   "cell_type": "code",
   "execution_count": null,
   "metadata": {},
   "outputs": [],
   "source": [
    "# EDA preprocess data for ml models "
   ]
  },
  {
   "cell_type": "code",
   "execution_count": null,
   "metadata": {},
   "outputs": [],
   "source": [
    "# sentiment analysis of reviews + combine population data in borough to predict correlation between features (i.e. price range vs local salary)\n",
    "# find out best area to open up certain restaurants (i.e. Earls court - Chinese restaurant)"
   ]
  },
  {
   "cell_type": "code",
   "execution_count": null,
   "metadata": {},
   "outputs": [],
   "source": [
    "# ML model reference: https://medium.com/@zhiwei_zhang/final-blog-642fb9c7e781     OR   http://www.apjis.or.kr/pdf/02_%EC%9A%B0%EC%A2%85%EC%9A%B1(35-49).pdf\n",
    "# Sentiment analysis reference: https://monkeylearn.com/blog/sentiment-analysis-tripadvisor/\n",
    "\n",
    "\n"
   ]
  },
  {
   "cell_type": "code",
   "execution_count": null,
   "metadata": {},
   "outputs": [],
   "source": []
  },
  {
   "cell_type": "code",
   "execution_count": null,
   "metadata": {},
   "outputs": [],
   "source": []
  },
  {
   "cell_type": "code",
   "execution_count": null,
   "metadata": {},
   "outputs": [],
   "source": []
  },
  {
   "cell_type": "code",
   "execution_count": null,
   "metadata": {},
   "outputs": [],
   "source": []
  },
  {
   "cell_type": "code",
   "execution_count": null,
   "metadata": {},
   "outputs": [],
   "source": []
  },
  {
   "cell_type": "code",
   "execution_count": null,
   "metadata": {},
   "outputs": [],
   "source": []
  },
  {
   "cell_type": "code",
   "execution_count": null,
   "metadata": {},
   "outputs": [],
   "source": []
  },
  {
   "cell_type": "code",
   "execution_count": null,
   "metadata": {},
   "outputs": [],
   "source": []
  },
  {
   "cell_type": "code",
   "execution_count": null,
   "metadata": {},
   "outputs": [],
   "source": []
  },
  {
   "cell_type": "code",
   "execution_count": null,
   "metadata": {},
   "outputs": [],
   "source": []
  },
  {
   "cell_type": "code",
   "execution_count": null,
   "metadata": {},
   "outputs": [],
   "source": []
  },
  {
   "cell_type": "code",
   "execution_count": null,
   "metadata": {},
   "outputs": [],
   "source": []
  },
  {
   "cell_type": "code",
   "execution_count": null,
   "metadata": {},
   "outputs": [],
   "source": []
  },
  {
   "cell_type": "code",
   "execution_count": null,
   "metadata": {},
   "outputs": [],
   "source": []
  },
  {
   "cell_type": "code",
   "execution_count": null,
   "metadata": {},
   "outputs": [],
   "source": []
  },
  {
   "cell_type": "code",
   "execution_count": null,
   "metadata": {},
   "outputs": [],
   "source": []
  },
  {
   "cell_type": "code",
   "execution_count": null,
   "metadata": {},
   "outputs": [],
   "source": []
  },
  {
   "cell_type": "code",
   "execution_count": null,
   "metadata": {},
   "outputs": [],
   "source": []
  },
  {
   "cell_type": "code",
   "execution_count": null,
   "metadata": {},
   "outputs": [],
   "source": []
  },
  {
   "cell_type": "code",
   "execution_count": null,
   "metadata": {},
   "outputs": [],
   "source": []
  },
  {
   "cell_type": "code",
   "execution_count": null,
   "metadata": {},
   "outputs": [],
   "source": []
  },
  {
   "cell_type": "code",
   "execution_count": null,
   "metadata": {},
   "outputs": [],
   "source": []
  },
  {
   "cell_type": "code",
   "execution_count": null,
   "metadata": {},
   "outputs": [],
   "source": []
  },
  {
   "cell_type": "code",
   "execution_count": null,
   "metadata": {},
   "outputs": [],
   "source": []
  },
  {
   "cell_type": "code",
   "execution_count": null,
   "metadata": {},
   "outputs": [],
   "source": []
  },
  {
   "cell_type": "code",
   "execution_count": null,
   "metadata": {},
   "outputs": [],
   "source": []
  },
  {
   "cell_type": "code",
   "execution_count": null,
   "metadata": {},
   "outputs": [],
   "source": []
  },
  {
   "cell_type": "code",
   "execution_count": null,
   "metadata": {},
   "outputs": [],
   "source": []
  },
  {
   "cell_type": "code",
   "execution_count": null,
   "metadata": {},
   "outputs": [],
   "source": []
  },
  {
   "cell_type": "code",
   "execution_count": null,
   "metadata": {},
   "outputs": [],
   "source": []
  },
  {
   "cell_type": "code",
   "execution_count": null,
   "metadata": {},
   "outputs": [],
   "source": []
  },
  {
   "cell_type": "code",
   "execution_count": null,
   "metadata": {},
   "outputs": [],
   "source": []
  },
  {
   "cell_type": "code",
   "execution_count": null,
   "metadata": {},
   "outputs": [],
   "source": []
  },
  {
   "cell_type": "code",
   "execution_count": null,
   "metadata": {},
   "outputs": [],
   "source": []
  },
  {
   "cell_type": "code",
   "execution_count": null,
   "metadata": {},
   "outputs": [],
   "source": []
  },
  {
   "cell_type": "code",
   "execution_count": null,
   "metadata": {},
   "outputs": [],
   "source": []
  },
  {
   "cell_type": "code",
   "execution_count": null,
   "metadata": {},
   "outputs": [],
   "source": []
  },
  {
   "cell_type": "code",
   "execution_count": null,
   "metadata": {},
   "outputs": [],
   "source": []
  },
  {
   "cell_type": "code",
   "execution_count": null,
   "metadata": {},
   "outputs": [],
   "source": []
  },
  {
   "cell_type": "code",
   "execution_count": null,
   "metadata": {},
   "outputs": [],
   "source": []
  },
  {
   "cell_type": "code",
   "execution_count": null,
   "metadata": {},
   "outputs": [],
   "source": []
  },
  {
   "cell_type": "code",
   "execution_count": null,
   "metadata": {},
   "outputs": [],
   "source": []
  },
  {
   "cell_type": "code",
   "execution_count": null,
   "metadata": {},
   "outputs": [],
   "source": []
  },
  {
   "cell_type": "code",
   "execution_count": null,
   "metadata": {},
   "outputs": [],
   "source": []
  },
  {
   "cell_type": "code",
   "execution_count": null,
   "metadata": {},
   "outputs": [],
   "source": []
  },
  {
   "cell_type": "code",
   "execution_count": null,
   "metadata": {},
   "outputs": [],
   "source": []
  },
  {
   "cell_type": "code",
   "execution_count": null,
   "metadata": {},
   "outputs": [],
   "source": []
  },
  {
   "cell_type": "code",
   "execution_count": null,
   "metadata": {},
   "outputs": [],
   "source": []
  },
  {
   "cell_type": "code",
   "execution_count": null,
   "metadata": {},
   "outputs": [],
   "source": []
  },
  {
   "cell_type": "code",
   "execution_count": null,
   "metadata": {},
   "outputs": [],
   "source": []
  },
  {
   "cell_type": "code",
   "execution_count": null,
   "metadata": {},
   "outputs": [],
   "source": []
  },
  {
   "cell_type": "code",
   "execution_count": null,
   "metadata": {},
   "outputs": [],
   "source": []
  },
  {
   "cell_type": "code",
   "execution_count": null,
   "metadata": {},
   "outputs": [],
   "source": []
  },
  {
   "cell_type": "code",
   "execution_count": null,
   "metadata": {},
   "outputs": [],
   "source": []
  },
  {
   "cell_type": "code",
   "execution_count": null,
   "metadata": {},
   "outputs": [],
   "source": []
  },
  {
   "cell_type": "code",
   "execution_count": null,
   "metadata": {},
   "outputs": [],
   "source": []
  },
  {
   "cell_type": "code",
   "execution_count": null,
   "metadata": {},
   "outputs": [],
   "source": []
  },
  {
   "cell_type": "code",
   "execution_count": null,
   "metadata": {},
   "outputs": [],
   "source": []
  },
  {
   "cell_type": "code",
   "execution_count": null,
   "metadata": {},
   "outputs": [],
   "source": []
  },
  {
   "cell_type": "code",
   "execution_count": null,
   "metadata": {},
   "outputs": [],
   "source": []
  },
  {
   "cell_type": "code",
   "execution_count": null,
   "metadata": {},
   "outputs": [],
   "source": []
  },
  {
   "cell_type": "code",
   "execution_count": null,
   "metadata": {},
   "outputs": [],
   "source": []
  },
  {
   "cell_type": "code",
   "execution_count": null,
   "metadata": {},
   "outputs": [],
   "source": []
  },
  {
   "cell_type": "code",
   "execution_count": null,
   "metadata": {},
   "outputs": [],
   "source": []
  },
  {
   "cell_type": "code",
   "execution_count": null,
   "metadata": {},
   "outputs": [],
   "source": []
  },
  {
   "cell_type": "code",
   "execution_count": null,
   "metadata": {},
   "outputs": [],
   "source": []
  },
  {
   "cell_type": "code",
   "execution_count": null,
   "metadata": {},
   "outputs": [],
   "source": []
  },
  {
   "cell_type": "code",
   "execution_count": null,
   "metadata": {},
   "outputs": [],
   "source": []
  },
  {
   "cell_type": "code",
   "execution_count": null,
   "metadata": {},
   "outputs": [],
   "source": []
  },
  {
   "cell_type": "code",
   "execution_count": null,
   "metadata": {},
   "outputs": [],
   "source": []
  },
  {
   "cell_type": "code",
   "execution_count": null,
   "metadata": {},
   "outputs": [],
   "source": []
  },
  {
   "cell_type": "code",
   "execution_count": null,
   "metadata": {},
   "outputs": [],
   "source": []
  },
  {
   "cell_type": "code",
   "execution_count": null,
   "metadata": {},
   "outputs": [],
   "source": []
  },
  {
   "cell_type": "code",
   "execution_count": null,
   "metadata": {},
   "outputs": [],
   "source": []
  },
  {
   "cell_type": "code",
   "execution_count": null,
   "metadata": {},
   "outputs": [],
   "source": []
  },
  {
   "cell_type": "code",
   "execution_count": null,
   "metadata": {},
   "outputs": [],
   "source": []
  },
  {
   "cell_type": "code",
   "execution_count": null,
   "metadata": {},
   "outputs": [],
   "source": []
  },
  {
   "cell_type": "code",
   "execution_count": null,
   "metadata": {},
   "outputs": [],
   "source": []
  },
  {
   "cell_type": "code",
   "execution_count": null,
   "metadata": {},
   "outputs": [],
   "source": []
  },
  {
   "cell_type": "code",
   "execution_count": null,
   "metadata": {},
   "outputs": [],
   "source": []
  }
 ],
 "metadata": {
  "kernelspec": {
   "display_name": "Python 3",
   "language": "python",
   "name": "python3"
  },
  "language_info": {
   "codemirror_mode": {
    "name": "ipython",
    "version": 3
   },
   "file_extension": ".py",
   "mimetype": "text/x-python",
   "name": "python",
   "nbconvert_exporter": "python",
   "pygments_lexer": "ipython3",
   "version": "3.7.4"
  }
 },
 "nbformat": 4,
 "nbformat_minor": 4
}
